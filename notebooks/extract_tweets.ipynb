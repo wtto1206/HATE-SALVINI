{
 "cells": [
  {
   "cell_type": "markdown",
   "metadata": {},
   "source": [
    "# NOTEBOOK TO READ AND CLEAN THE DATA"
   ]
  },
  {
   "cell_type": "code",
   "execution_count": 7,
   "metadata": {},
   "outputs": [],
   "source": [
    "import pandas as pd\n",
    "import re"
   ]
  },
  {
   "cell_type": "markdown",
   "metadata": {},
   "source": [
    "## READ INTO THE DATA"
   ]
  },
  {
   "cell_type": "code",
   "execution_count": 6,
   "metadata": {},
   "outputs": [],
   "source": [
    "path = '/home/wtto/Documents/Computational_Modeling/uncleaned_data.txt'   \n",
    "\n",
    "# Read in the file \n",
    "with open(path, \"r\", encoding='utf-8') as f:\n",
    "    tweets = f.readlines()"
   ]
  },
  {
   "cell_type": "code",
   "execution_count": 12,
   "metadata": {},
   "outputs": [
    {
     "data": {
      "text/plain": [
       "['1352917987179769856 2021-01-23 10:55:58 +0100 <matteosalvinimi> Il “governo ammucchiata”, tutti insieme con PD e sinistre, può essere il sogno di qualche giornalista, di qualche editore, di qualche banchiere o faccendiere fantasioso. Per me e per milioni di Italiani sarebbe solo un incubo. Diamo forza e fiducia agli Italiani! #democrazia\\n',\n",
       " '1352854826904743938 2021-01-23 06:45:00 +0100 <matteosalvinimi> .@VittorioSgarbi: \"Verrà un tempo in cui Conte potrà raccontare a suo figlio di quel giorno in cui Ciampolillo salvò lo stipendio di Rocco Casalino\".  #vociitaliane  https://t.co/aWkfAJK6yi\\n',\n",
       " '1352746510279176194 2021-01-22 23:34:35 +0100 <matteosalvinimi> 🇮🇹🇮🇹🇮🇹  https://t.co/OO047uCKTN\\n',\n",
       " '1352738297181822976 2021-01-22 23:01:57 +0100 <matteosalvinimi> Un commosso addio a Roberto Brivio, artista innovatore e poliedrico, milanese indimenticabile.   https://t.co/13uLHswG3t\\n',\n",
       " '1352724132614574085 2021-01-22 22:05:40 +0100 <matteosalvinimi> Fiducia in questo Parlamento? NO Fiducia negli italiani? SEMPRE. DIAMO LORO LA PAROLA 🇮🇹  https://t.co/XvMiLUzhtq\\n',\n",
       " \"1352705296473481216 2021-01-22 20:50:49 +0100 <matteosalvinimi> Correva l'anno 2003 ❤️  https://t.co/576z6rfJCU\\n\",\n",
       " '1352665404628496384 2021-01-22 18:12:18 +0100 <matteosalvinimi> Rai, Mauro Corona cacciato senza appello, mentre il \"simpaticissimo\" Alan Friedman può dare della \"escort\" in diretta tv a Melania Trump tra sorrisi e grasse risate. Come al solito, due pesi, due misure. @AnnalisaChirico  https://t.co/xcQGB6shAP\\n',\n",
       " '1352656426263572482 2021-01-22 17:36:37 +0100 <matteosalvinimi> Arrestato Natale Errigo, membro dello staff del commissario Arcuri, con accuse pesantissime di legami con le cosche: serve chiarezza immediata e sorprende il silenzio tombale del governo e in particolare dei 5Stelle. Tutto normale?\\n',\n",
       " '1352623071748894720 2021-01-22 15:24:05 +0100 <matteosalvinimi> Nota bene per il governo e per chi calunnia: Regione Lombardia ha sempre fornito informazioni corrette.   https://t.co/8OaFMfJLls  https://t.co/y3jvYTtPDW\\n',\n",
       " '1352617710346248192 2021-01-22 15:02:47 +0100 <matteosalvinimi> Se 10milioni di cittadini lombardi sono stati rinchiusi in casa per mesi in base a dati e valutazioni sbagliate del governo, saremmo di fronte a danni morali ed economici enormi, un vero e proprio sequestro di massa. Chi ha sbagliato paghi, chieda scusa e ripari al danno causato.  https://t.co/0TCJpXPUwW\\n']"
      ]
     },
     "execution_count": 12,
     "metadata": {},
     "output_type": "execute_result"
    }
   ],
   "source": [
    "#let’s see the first 10 tweets\n",
    "\n",
    "tweets[:10]"
   ]
  },
  {
   "cell_type": "markdown",
   "metadata": {},
   "source": [
    "## EXTRACT TWEET CONTENT USING REGULAR EXPRESSION"
   ]
  },
  {
   "cell_type": "code",
   "execution_count": 8,
   "metadata": {},
   "outputs": [],
   "source": [
    "#function to extract tweet content discarding metadata\n",
    "def preprocess(line):\n",
    "    # Extract the text content after <matteosalvinimi>\n",
    "    results = re.search(r'<matteosalvinimi>(.+)', line)\n",
    "    if results:\n",
    "        # Return the text content, which consists of the first group\n",
    "        return results.group(1).strip()\n",
    "    else:\n",
    "        return None\n",
    "    \n",
    "#function call \n",
    "#the executed_tweets variable will contain the tweets without metadata\n",
    "extracted_tweets = [preprocess(tweet) for tweet in tweets]\n",
    "\n",
    "#this will be a document with all the tweets together\n",
    "extracted_tweets_as_document = \" \".join(extracted_tweets)"
   ]
  },
  {
   "cell_type": "markdown",
   "metadata": {},
   "source": [
    "## SAVE EXTRACTED TWEETS TO CSV"
   ]
  },
  {
   "cell_type": "code",
   "execution_count": 9,
   "metadata": {},
   "outputs": [],
   "source": [
    "extracted_tweets_as_document\n",
    "\n",
    "# create a dataframe with the tweets\n",
    "\n",
    "df = pd.DataFrame(extracted_tweets, columns=['tweet'])\n",
    "\n",
    "#save the dataframe to a csv file\n",
    "df.to_csv('cleaned_data.csv', index=False)"
   ]
  },
  {
   "cell_type": "code",
   "execution_count": 10,
   "metadata": {},
   "outputs": [
    {
     "data": {
      "text/html": [
       "<div>\n",
       "<style scoped>\n",
       "    .dataframe tbody tr th:only-of-type {\n",
       "        vertical-align: middle;\n",
       "    }\n",
       "\n",
       "    .dataframe tbody tr th {\n",
       "        vertical-align: top;\n",
       "    }\n",
       "\n",
       "    .dataframe thead th {\n",
       "        text-align: right;\n",
       "    }\n",
       "</style>\n",
       "<table border=\"1\" class=\"dataframe\">\n",
       "  <thead>\n",
       "    <tr style=\"text-align: right;\">\n",
       "      <th></th>\n",
       "      <th>tweet</th>\n",
       "    </tr>\n",
       "  </thead>\n",
       "  <tbody>\n",
       "    <tr>\n",
       "      <th>0</th>\n",
       "      <td>Il “governo ammucchiata”, tutti insieme con PD...</td>\n",
       "    </tr>\n",
       "    <tr>\n",
       "      <th>1</th>\n",
       "      <td>.@VittorioSgarbi: \"Verrà un tempo in cui Conte...</td>\n",
       "    </tr>\n",
       "    <tr>\n",
       "      <th>2</th>\n",
       "      <td>🇮🇹🇮🇹🇮🇹  https://t.co/OO047uCKTN</td>\n",
       "    </tr>\n",
       "    <tr>\n",
       "      <th>3</th>\n",
       "      <td>Un commosso addio a Roberto Brivio, artista in...</td>\n",
       "    </tr>\n",
       "    <tr>\n",
       "      <th>4</th>\n",
       "      <td>Fiducia in questo Parlamento? NO Fiducia negli...</td>\n",
       "    </tr>\n",
       "    <tr>\n",
       "      <th>...</th>\n",
       "      <td>...</td>\n",
       "    </tr>\n",
       "    <tr>\n",
       "      <th>46419</th>\n",
       "      <td>Al mercato di via Ettore Ponti   http://yfrog....</td>\n",
       "    </tr>\n",
       "    <tr>\n",
       "      <th>46420</th>\n",
       "      <td>Sl mercato di via de Guarnieri Milano...</td>\n",
       "    </tr>\n",
       "    <tr>\n",
       "      <th>46421</th>\n",
       "      <td>al mercato di via Osoppo a Milano. Se volete r...</td>\n",
       "    </tr>\n",
       "    <tr>\n",
       "      <th>46422</th>\n",
       "      <td>www.immaginami.it</td>\n",
       "    </tr>\n",
       "    <tr>\n",
       "      <th>46423</th>\n",
       "      <td>Ecco il mio nuovo twitter :-)</td>\n",
       "    </tr>\n",
       "  </tbody>\n",
       "</table>\n",
       "<p>46424 rows × 1 columns</p>\n",
       "</div>"
      ],
      "text/plain": [
       "                                                   tweet\n",
       "0      Il “governo ammucchiata”, tutti insieme con PD...\n",
       "1      .@VittorioSgarbi: \"Verrà un tempo in cui Conte...\n",
       "2                        🇮🇹🇮🇹🇮🇹  https://t.co/OO047uCKTN\n",
       "3      Un commosso addio a Roberto Brivio, artista in...\n",
       "4      Fiducia in questo Parlamento? NO Fiducia negli...\n",
       "...                                                  ...\n",
       "46419  Al mercato di via Ettore Ponti   http://yfrog....\n",
       "46420           Sl mercato di via de Guarnieri Milano...\n",
       "46421  al mercato di via Osoppo a Milano. Se volete r...\n",
       "46422                                  www.immaginami.it\n",
       "46423                      Ecco il mio nuovo twitter :-)\n",
       "\n",
       "[46424 rows x 1 columns]"
      ]
     },
     "execution_count": 10,
     "metadata": {},
     "output_type": "execute_result"
    }
   ],
   "source": [
    "#LOAD THE DATAFRAME\n",
    "df = pd.read_csv('cleaned_data.csv')\n",
    "\n",
    "df"
   ]
  }
 ],
 "metadata": {
  "kernelspec": {
   "display_name": "CompModVenv",
   "language": "python",
   "name": "python3"
  },
  "language_info": {
   "codemirror_mode": {
    "name": "ipython",
    "version": 3
   },
   "file_extension": ".py",
   "mimetype": "text/x-python",
   "name": "python",
   "nbconvert_exporter": "python",
   "pygments_lexer": "ipython3",
   "version": "3.11.8"
  }
 },
 "nbformat": 4,
 "nbformat_minor": 2
}
