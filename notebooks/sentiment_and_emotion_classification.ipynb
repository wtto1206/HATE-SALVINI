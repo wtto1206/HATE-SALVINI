{
 "cells": [
  {
   "cell_type": "markdown",
   "metadata": {},
   "source": [
    "# NOTEBOOK TO COMPUTE EMOTION AND SENTIMENT CLASSIFICATION ON THE IMMIGRATION-RELATED TWEETS"
   ]
  },
  {
   "cell_type": "code",
   "execution_count": 14,
   "metadata": {},
   "outputs": [],
   "source": [
    "#!pip install -U feel-it\n",
    "\n",
    "import pandas as pd\n",
    "import matplotlib.pyplot as plt\n",
    "from feel_it import EmotionClassifier, SentimentClassifier"
   ]
  },
  {
   "cell_type": "code",
   "execution_count": 2,
   "metadata": {},
   "outputs": [],
   "source": [
    "emotion_classifier = EmotionClassifier()\n",
    "sentiment_classifier = SentimentClassifier()"
   ]
  },
  {
   "cell_type": "code",
   "execution_count": 7,
   "metadata": {},
   "outputs": [
    {
     "data": {
      "text/html": [
       "<div>\n",
       "<style scoped>\n",
       "    .dataframe tbody tr th:only-of-type {\n",
       "        vertical-align: middle;\n",
       "    }\n",
       "\n",
       "    .dataframe tbody tr th {\n",
       "        vertical-align: top;\n",
       "    }\n",
       "\n",
       "    .dataframe thead th {\n",
       "        text-align: right;\n",
       "    }\n",
       "</style>\n",
       "<table border=\"1\" class=\"dataframe\">\n",
       "  <thead>\n",
       "    <tr style=\"text-align: right;\">\n",
       "      <th></th>\n",
       "      <th>Doc</th>\n",
       "      <th>Topic</th>\n",
       "      <th>Doc_ID</th>\n",
       "    </tr>\n",
       "  </thead>\n",
       "  <tbody>\n",
       "    <tr>\n",
       "      <th>0</th>\n",
       "      <td>Centinaia di italiani che vivono e lavorano a ...</td>\n",
       "      <td>122</td>\n",
       "      <td>463</td>\n",
       "    </tr>\n",
       "    <tr>\n",
       "      <th>1</th>\n",
       "      <td>Il governo ha bloccato il Parlamento per aprir...</td>\n",
       "      <td>122</td>\n",
       "      <td>728</td>\n",
       "    </tr>\n",
       "    <tr>\n",
       "      <th>2</th>\n",
       "      <td>⚠️Divieto di spostamento tra regioni dal 20 di...</td>\n",
       "      <td>122</td>\n",
       "      <td>858</td>\n",
       "    </tr>\n",
       "    <tr>\n",
       "      <th>3</th>\n",
       "      <td>#Salvini: Ancora troppi gli italiani dimentica...</td>\n",
       "      <td>122</td>\n",
       "      <td>1057</td>\n",
       "    </tr>\n",
       "    <tr>\n",
       "      <th>4</th>\n",
       "      <td>Vedendo quanto sta accadendo ora grazie a Cont...</td>\n",
       "      <td>122</td>\n",
       "      <td>1068</td>\n",
       "    </tr>\n",
       "    <tr>\n",
       "      <th>...</th>\n",
       "      <td>...</td>\n",
       "      <td>...</td>\n",
       "      <td>...</td>\n",
       "    </tr>\n",
       "    <tr>\n",
       "      <th>1534</th>\n",
       "      <td>L'intervento in Libia ha peggiorato la situazi...</td>\n",
       "      <td>123</td>\n",
       "      <td>37493</td>\n",
       "    </tr>\n",
       "    <tr>\n",
       "      <th>1535</th>\n",
       "      <td>Sul Corriere denuncia di Tripoli: \"Sbarchi dal...</td>\n",
       "      <td>123</td>\n",
       "      <td>37763</td>\n",
       "    </tr>\n",
       "    <tr>\n",
       "      <th>1536</th>\n",
       "      <td>Altri 556 immigrati raccolti da navi militari ...</td>\n",
       "      <td>123</td>\n",
       "      <td>38238</td>\n",
       "    </tr>\n",
       "    <tr>\n",
       "      <th>1537</th>\n",
       "      <td>Le cosche guadagnano sugli #immigrati: marina ...</td>\n",
       "      <td>123</td>\n",
       "      <td>38256</td>\n",
       "    </tr>\n",
       "    <tr>\n",
       "      <th>1538</th>\n",
       "      <td>\"#Immigrazione via mare pone GRAVI RISCHI a si...</td>\n",
       "      <td>123</td>\n",
       "      <td>39294</td>\n",
       "    </tr>\n",
       "  </tbody>\n",
       "</table>\n",
       "<p>1539 rows × 3 columns</p>\n",
       "</div>"
      ],
      "text/plain": [
       "                                                    Doc  Topic  Doc_ID\n",
       "0     Centinaia di italiani che vivono e lavorano a ...    122     463\n",
       "1     Il governo ha bloccato il Parlamento per aprir...    122     728\n",
       "2     ⚠️Divieto di spostamento tra regioni dal 20 di...    122     858\n",
       "3     #Salvini: Ancora troppi gli italiani dimentica...    122    1057\n",
       "4     Vedendo quanto sta accadendo ora grazie a Cont...    122    1068\n",
       "...                                                 ...    ...     ...\n",
       "1534  L'intervento in Libia ha peggiorato la situazi...    123   37493\n",
       "1535  Sul Corriere denuncia di Tripoli: \"Sbarchi dal...    123   37763\n",
       "1536  Altri 556 immigrati raccolti da navi militari ...    123   38238\n",
       "1537  Le cosche guadagnano sugli #immigrati: marina ...    123   38256\n",
       "1538  \"#Immigrazione via mare pone GRAVI RISCHI a si...    123   39294\n",
       "\n",
       "[1539 rows x 3 columns]"
      ]
     },
     "execution_count": 7,
     "metadata": {},
     "output_type": "execute_result"
    }
   ],
   "source": [
    "relevant_tweets = pd.read_csv('all_topics.csv')\n",
    "\n",
    "relevant_tweets"
   ]
  },
  {
   "cell_type": "code",
   "execution_count": 8,
   "metadata": {},
   "outputs": [],
   "source": [
    "#here we create a dictionary with the sentiment and emotion of each relevant tweet by fitting the model to the relevant tweets and storing the predictions in a dictionary that looks like this: {tweet: {\"sentiment\": sentiment, \"emotion\": emotion}}\n",
    "\n",
    "sentiment_emotion_dict = {}\n",
    "for tweet in relevant_tweets['Doc']:\n",
    "    sentiment_emotion_dict[tweet] = {\"sentiment\": sentiment_classifier.predict([tweet])[0], \"emotion\": emotion_classifier.predict([tweet])[0]}"
   ]
  },
  {
   "cell_type": "code",
   "execution_count": 9,
   "metadata": {},
   "outputs": [
    {
     "data": {
      "text/html": [
       "<div>\n",
       "<style scoped>\n",
       "    .dataframe tbody tr th:only-of-type {\n",
       "        vertical-align: middle;\n",
       "    }\n",
       "\n",
       "    .dataframe tbody tr th {\n",
       "        vertical-align: top;\n",
       "    }\n",
       "\n",
       "    .dataframe thead th {\n",
       "        text-align: right;\n",
       "    }\n",
       "</style>\n",
       "<table border=\"1\" class=\"dataframe\">\n",
       "  <thead>\n",
       "    <tr style=\"text-align: right;\">\n",
       "      <th></th>\n",
       "      <th>sentiment</th>\n",
       "      <th>emotion</th>\n",
       "    </tr>\n",
       "  </thead>\n",
       "  <tbody>\n",
       "    <tr>\n",
       "      <th>Centinaia di italiani che vivono e lavorano a Londra e nel Regno Unito, dopo aver fatto costosi tamponi, sono stati bloccati e abbandonati mentre erano già in aeroporto, con carta d'imbarco in mano e in attesa del volo.  (1/2)  https://t.co/M9y2PDPm9C</th>\n",
       "      <td>negative</td>\n",
       "      <td>sadness</td>\n",
       "    </tr>\n",
       "    <tr>\n",
       "      <th>Il governo ha bloccato il Parlamento per aprire porti e riaccendere il business dell’immigrazione clandestina, ma non trova il tempo per i più di 20mila giovani medici che da metà ottobre attendono di sapere dove potranno iniziare la specializzazione.</th>\n",
       "      <td>negative</td>\n",
       "      <td>sadness</td>\n",
       "    </tr>\n",
       "    <tr>\n",
       "      <th>⚠️Divieto di spostamento tra regioni dal 20 dicembre al 6 gennaio, #patrimoniale su casa e risparmi, Camera impegnata nel riaprire porti e portafogli per il business dell'immigrazione clandestina. Da Lega e centrodestra battaglia giorno e notte per fermare il #Decretoclandestini.  https://t.co/h1Z5W2aWuT</th>\n",
       "      <td>negative</td>\n",
       "      <td>anger</td>\n",
       "    </tr>\n",
       "    <tr>\n",
       "      <th>#Salvini: Ancora troppi gli italiani dimenticati: disabili senza l'assistenza dovuta e anziani chiusi in casa. Cerchiamo di rispondere alle loro richieste di aiuto. #ore14rai2</th>\n",
       "      <td>negative</td>\n",
       "      <td>sadness</td>\n",
       "    </tr>\n",
       "    <tr>\n",
       "      <th>Vedendo quanto sta accadendo ora grazie a Conte, con sbarchi senza fine, cancellazione dei Decreti sicurezza e ripartenza del business dell'immigrazione clandestina, ci vado ancor di più A TESTA ALTA!</th>\n",
       "      <td>negative</td>\n",
       "      <td>anger</td>\n",
       "    </tr>\n",
       "    <tr>\n",
       "      <th>Che vergogna. Per i clandestini zona verde, grazie a questo governo la mangiatoia del business dell’immigrazione clandestina è ripartita a pieno regime.  https://t.co/otaopxQoh2</th>\n",
       "      <td>negative</td>\n",
       "      <td>anger</td>\n",
       "    </tr>\n",
       "    <tr>\n",
       "      <th>🔴 Quasi 30mila sbarchi, oltre 12 mila tunisini. Gli italiani in casa, bar, ristoranti e negozi chiusi. Porti e confini aperti a clandestini e finti richiedenti asilo che non fuggono da nessuna guerra. Questa è l’Italia di Conte, PD e 5 Stelle.  https://t.co/kkPltZZ0mR</th>\n",
       "      <td>negative</td>\n",
       "      <td>anger</td>\n",
       "    </tr>\n",
       "    <tr>\n",
       "      <th>847 immigrati ieri. 114 solo questa notte. 2.241 da domenica. E la settimana prossima Pd e 5Stelle portano in Parlamento la cancellazione dei Decreti Sicurezza. Complici e incoscienti.</th>\n",
       "      <td>negative</td>\n",
       "      <td>anger</td>\n",
       "    </tr>\n",
       "    <tr>\n",
       "      <th>Gli italiani non vogliono parole ma fatti. Da domenica a oggi, sono sbarcati in Italia 1.600 immigrati clandestini (nel video uno di quelli di stamattina). Di che controlli parla il Viminale? Scriveremo a “Chi l’ha Visto?” per avere notizie del ministro Lamorgese.  https://t.co/d0kNsLqSn1</th>\n",
       "      <td>negative</td>\n",
       "      <td>anger</td>\n",
       "    </tr>\n",
       "    <tr>\n",
       "      <th>#Salvini: Un'oretta fa sono sbarcati altri cento immigrati a #Lampedusa. Non vedo sui banchi del governo il ministro dell'Interno... Un governo che si appresta a chiudere scuole, uffici e negozi non potrebbe chiudere i porti ai clandestini? È così difficile? #Senato</th>\n",
       "      <td>negative</td>\n",
       "      <td>anger</td>\n",
       "    </tr>\n",
       "  </tbody>\n",
       "</table>\n",
       "</div>"
      ],
      "text/plain": [
       "                                                   sentiment  emotion\n",
       "Centinaia di italiani che vivono e lavorano a L...  negative  sadness\n",
       "Il governo ha bloccato il Parlamento per aprire...  negative  sadness\n",
       "⚠️Divieto di spostamento tra regioni dal 20 dic...  negative    anger\n",
       "#Salvini: Ancora troppi gli italiani dimenticat...  negative  sadness\n",
       "Vedendo quanto sta accadendo ora grazie a Conte...  negative    anger\n",
       "Che vergogna. Per i clandestini zona verde, gra...  negative    anger\n",
       "🔴 Quasi 30mila sbarchi, oltre 12 mila tunisini....  negative    anger\n",
       "847 immigrati ieri. 114 solo questa notte. 2.24...  negative    anger\n",
       "Gli italiani non vogliono parole ma fatti. Da d...  negative    anger\n",
       "#Salvini: Un'oretta fa sono sbarcati altri cent...  negative    anger"
      ]
     },
     "execution_count": 9,
     "metadata": {},
     "output_type": "execute_result"
    }
   ],
   "source": [
    "#print the dictionary as a dataframe\n",
    "df = pd.DataFrame(sentiment_emotion_dict).T\n",
    "df.head(10)"
   ]
  },
  {
   "cell_type": "code",
   "execution_count": 10,
   "metadata": {},
   "outputs": [
    {
     "data": {
      "text/plain": [
       "emotion\n",
       "anger      1247\n",
       "sadness     118\n",
       "joy         115\n",
       "fear         59\n",
       "Name: count, dtype: int64"
      ]
     },
     "execution_count": 10,
     "metadata": {},
     "output_type": "execute_result"
    }
   ],
   "source": [
    "#count how many tweets have a a certain emotion\n",
    "df[\"emotion\"].value_counts()"
   ]
  },
  {
   "cell_type": "code",
   "execution_count": 11,
   "metadata": {},
   "outputs": [
    {
     "data": {
      "text/plain": [
       "emotion\n",
       "anger      81.026641\n",
       "sadness     7.667316\n",
       "joy         7.472385\n",
       "fear        3.833658\n",
       "Name: proportion, dtype: float64"
      ]
     },
     "execution_count": 11,
     "metadata": {},
     "output_type": "execute_result"
    }
   ],
   "source": [
    "#percentage of tweets with a certain emotion\n",
    "\n",
    "df[\"emotion\"].value_counts(normalize=True)*100\n"
   ]
  },
  {
   "cell_type": "code",
   "execution_count": 12,
   "metadata": {},
   "outputs": [
    {
     "data": {
      "text/plain": [
       "sentiment\n",
       "negative    1427\n",
       "positive     112\n",
       "Name: count, dtype: int64"
      ]
     },
     "execution_count": 12,
     "metadata": {},
     "output_type": "execute_result"
    }
   ],
   "source": [
    "#count how many tweets have a positive sentiment\n",
    "df[\"sentiment\"].value_counts()"
   ]
  },
  {
   "cell_type": "code",
   "execution_count": 13,
   "metadata": {},
   "outputs": [
    {
     "data": {
      "text/plain": [
       "sentiment\n",
       "negative    92.722547\n",
       "positive     7.277453\n",
       "Name: proportion, dtype: float64"
      ]
     },
     "execution_count": 13,
     "metadata": {},
     "output_type": "execute_result"
    }
   ],
   "source": [
    "#percentage\n",
    "df[\"sentiment\"].value_counts(normalize=True)*100"
   ]
  },
  {
   "cell_type": "markdown",
   "metadata": {},
   "source": [
    "# PIE CHART FOR EMOTION AND SENTIMENT"
   ]
  },
  {
   "cell_type": "code",
   "execution_count": 18,
   "metadata": {},
   "outputs": [
    {
     "data": {
      "image/png": "[encoded data removed]",
      "text/plain": [
       "<Figure size 1200x600 with 2 Axes>"
      ]
     },
     "metadata": {},
     "output_type": "display_data"
    }
   ],
   "source": [
    "emotion_counts = df[\"emotion\"].value_counts(normalize=True) * 100\n",
    "\n",
    "sentiment_counts = df[\"sentiment\"].value_counts(normalize=True) * 100\n",
    "\n",
    "# Set colors for emotions\n",
    "colors_emotion = ['#EAD2AC', '#B2CCB2', '#6CA9A5', '#545E75']\n",
    "\n",
    "# Plotting pie chart for sentiment distribution\n",
    "plt.figure(figsize=(12, 6))  # Larger figure size to accommodate both charts\n",
    "plt.subplot(1, 2, 1)  # Subplot 1 of a 1x2 grid (left side)\n",
    "wedges_sentiment, _, autotexts_sentiment = plt.pie(sentiment_counts, labels=sentiment_counts.index, autopct='%1.1f%%', startangle=140, colors=colors_emotion)\n",
    "plt.title('Sentiment Distribution')\n",
    "plt.axis('equal')\n",
    "\n",
    "# Add legend for sentiment\n",
    "plt.legend(wedges_sentiment, sentiment_counts.index, title=\"Sentiments\", loc=\"center left\", bbox_to_anchor=(1, 0, 0.5, 1))\n",
    "\n",
    "# Plotting pie chart for emotion distribution\n",
    "plt.subplot(1, 2, 2)  # Subplot 2 of a 1x2 grid (right side)\n",
    "wedges_emotion, _, autotexts_emotion = plt.pie(emotion_counts, labels=emotion_counts.index, autopct='%1.1f%%', colors=colors_emotion, startangle=140)\n",
    "plt.title('Emotion Distribution')\n",
    "plt.axis('equal')\n",
    "\n",
    "# Add legend for emotion\n",
    "plt.legend(wedges_emotion, emotion_counts.index, title=\"Emotions\", loc=\"center left\", bbox_to_anchor=(1, 0, 0.5, 1))\n",
    "\n",
    "# Adjust layout to prevent overlap\n",
    "plt.tight_layout()\n",
    "\n",
    "# Save the combined plot as an image\n",
    "plt.savefig('sentiment_and_emotion_pie_charts_with_legends.png', dpi=300, bbox_inches='tight')\n",
    "\n",
    "# Display the combined plot\n",
    "plt.show()\n"
   ]
  },
  {
   "cell_type": "code",
   "execution_count": null,
   "metadata": {},
   "outputs": [],
   "source": []
  }
 ],
 "metadata": {
  "kernelspec": {
   "display_name": "CompModVenv",
   "language": "python",
   "name": "python3"
  },
  "language_info": {
   "codemirror_mode": {
    "name": "ipython",
    "version": 3
   },
   "file_extension": ".py",
   "mimetype": "text/x-python",
   "name": "python",
   "nbconvert_exporter": "python",
   "pygments_lexer": "ipython3",
   "version": "3.11.8"
  }
 },
 "nbformat": 4,
 "nbformat_minor": 2
}
